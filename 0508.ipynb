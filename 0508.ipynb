{
  "nbformat": 4,
  "nbformat_minor": 0,
  "metadata": {
    "colab": {
      "provenance": [],
      "authorship_tag": "ABX9TyMTLtOlVGVXshgNjlwJW9QX",
      "include_colab_link": true
    },
    "kernelspec": {
      "name": "python3",
      "display_name": "Python 3"
    },
    "language_info": {
      "name": "python"
    }
  },
  "cells": [
    {
      "cell_type": "markdown",
      "metadata": {
        "id": "view-in-github",
        "colab_type": "text"
      },
      "source": [
        "<a href=\"https://colab.research.google.com/github/fengtttp2000/Introduction-to-Computers/blob/main/0508.ipynb\" target=\"_parent\"><img src=\"https://colab.research.google.com/assets/colab-badge.svg\" alt=\"Open In Colab\"/></a>"
      ]
    },
    {
      "cell_type": "code",
      "execution_count": 13,
      "metadata": {
        "colab": {
          "base_uri": "https://localhost:8080/"
        },
        "id": "ZGvl9sKUJDEH",
        "outputId": "835b06a2-018f-4b85-a5e8-2a57ab2ed939"
      },
      "outputs": [
        {
          "output_type": "stream",
          "name": "stdout",
          "text": [
            "請輸入成績:40\n",
            "不及格\n"
          ]
        }
      ],
      "source": [
        "score = int(input(\"請輸入成績:\"))\n",
        "if score >= 60 : \n",
        "  print(\"及格\") \n",
        "else :\n",
        "  print(\"不及格\")  \n"
      ]
    },
    {
      "cell_type": "code",
      "source": [
        "password = input(\"請輸入密碼:\")\n",
        "if password == \"1234\": \n",
        "  print(\"密碼正確!:\")\n",
        "else : \n",
        "  print(\"密碼錯誤!\")"
      ],
      "metadata": {
        "colab": {
          "base_uri": "https://localhost:8080/"
        },
        "id": "K4wS0uRZSymL",
        "outputId": "3eab71d3-b10e-4ba9-8e5f-a3ce792adddc"
      },
      "execution_count": 12,
      "outputs": [
        {
          "output_type": "stream",
          "name": "stdout",
          "text": [
            "請輸入密碼:1111\n",
            "密碼錯誤!\n"
          ]
        }
      ]
    },
    {
      "cell_type": "code",
      "source": [
        "number = int(input(\"請輸入正整數:\"))\n",
        "if number % 2 == 0: \n",
        "  print(\"是偶數\") \n",
        "else : \n",
        "  print(\"是奇數\")  "
      ],
      "metadata": {
        "colab": {
          "base_uri": "https://localhost:8080/"
        },
        "id": "U-JicYvhWBov",
        "outputId": "c3176227-1280-4d46-d535-b14a9f080d4d"
      },
      "execution_count": 17,
      "outputs": [
        {
          "output_type": "stream",
          "name": "stdout",
          "text": [
            "請輸入正整數:50\n",
            "是偶數\n"
          ]
        }
      ]
    },
    {
      "cell_type": "code",
      "source": [
        "rain = input(\"今天會下雨嗎?(輸入y或n)\")\n",
        "if (rain == \"Y\" or rain == \"y\"): \n",
        "  print(\"出門記得帶傘!\") \n",
        "\n",
        "\n"
      ],
      "metadata": {
        "colab": {
          "base_uri": "https://localhost:8080/"
        },
        "id": "El716VdeXlb6",
        "outputId": "896d4208-06f4-41f0-e7e7-3442eb18c215"
      },
      "execution_count": 21,
      "outputs": [
        {
          "output_type": "stream",
          "name": "stdout",
          "text": [
            "今天會下雨嗎?(輸入y或n)y\n",
            "出門記得帶傘!\n"
          ]
        }
      ]
    },
    {
      "cell_type": "code",
      "source": [],
      "metadata": {
        "id": "O3b11scAZQAZ"
      },
      "execution_count": null,
      "outputs": []
    }
  ]
}