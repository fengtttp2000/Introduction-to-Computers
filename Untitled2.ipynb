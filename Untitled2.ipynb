{
  "nbformat": 4,
  "nbformat_minor": 0,
  "metadata": {
    "colab": {
      "provenance": [],
      "authorship_tag": "ABX9TyPLy3wlqgk5wybgCqAnp08X",
      "include_colab_link": true
    },
    "kernelspec": {
      "name": "python3",
      "display_name": "Python 3"
    },
    "language_info": {
      "name": "python"
    }
  },
  "cells": [
    {
      "cell_type": "markdown",
      "metadata": {
        "id": "view-in-github",
        "colab_type": "text"
      },
      "source": [
        "<a href=\"https://colab.research.google.com/github/fengtttp2000/Introduction-to-Computers/blob/main/Untitled2.ipynb\" target=\"_parent\"><img src=\"https://colab.research.google.com/assets/colab-badge.svg\" alt=\"Open In Colab\"/></a>"
      ]
    },
    {
      "cell_type": "code",
      "execution_count": 2,
      "metadata": {
        "colab": {
          "base_uri": "https://localhost:8080/"
        },
        "id": "VY9VWeHB0gKs",
        "outputId": "690d174b-1f54-4ab1-d682-4f4a0e32066d"
      },
      "outputs": [
        {
          "output_type": "stream",
          "name": "stdout",
          "text": [
            "0313\n"
          ]
        }
      ],
      "source": [
        "print(\"0313\")"
      ]
    },
    {
      "cell_type": "code",
      "source": [
        "a = b= c = 1"
      ],
      "metadata": {
        "id": "H2PfZMDm0y2Q"
      },
      "execution_count": 4,
      "outputs": []
    },
    {
      "cell_type": "code",
      "source": [
        "a, b, c"
      ],
      "metadata": {
        "colab": {
          "base_uri": "https://localhost:8080/"
        },
        "id": "NKrmPcDb04Ad",
        "outputId": "b083486b-fd55-4e33-d5ef-408d66821100"
      },
      "execution_count": 5,
      "outputs": [
        {
          "output_type": "execute_result",
          "data": {
            "text/plain": [
              "(1, 1, 1)"
            ]
          },
          "metadata": {},
          "execution_count": 5
        }
      ]
    },
    {
      "cell_type": "code",
      "source": [
        "d = \"1\""
      ],
      "metadata": {
        "id": "f-4k2oTb1Aax"
      },
      "execution_count": 6,
      "outputs": []
    },
    {
      "cell_type": "code",
      "source": [
        "a, d"
      ],
      "metadata": {
        "colab": {
          "base_uri": "https://localhost:8080/"
        },
        "id": "PdIFoORh1FO3",
        "outputId": "e481f15b-7674-468a-995e-72a91267290d"
      },
      "execution_count": 7,
      "outputs": [
        {
          "output_type": "execute_result",
          "data": {
            "text/plain": [
              "(1, '1')"
            ]
          },
          "metadata": {},
          "execution_count": 7
        }
      ]
    },
    {
      "cell_type": "code",
      "source": [
        "e = 123"
      ],
      "metadata": {
        "id": "QtcIzIWJ1XD6"
      },
      "execution_count": 8,
      "outputs": []
    },
    {
      "cell_type": "code",
      "source": [
        "e"
      ],
      "metadata": {
        "colab": {
          "base_uri": "https://localhost:8080/"
        },
        "id": "i9Z9fzwf1awM",
        "outputId": "327fe1f1-108f-4588-f106-a30eeb372951"
      },
      "execution_count": 9,
      "outputs": [
        {
          "output_type": "execute_result",
          "data": {
            "text/plain": [
              "123"
            ]
          },
          "metadata": {},
          "execution_count": 9
        }
      ]
    },
    {
      "cell_type": "code",
      "source": [
        "f = \"123\""
      ],
      "metadata": {
        "id": "-4XMELZo1iEq"
      },
      "execution_count": 10,
      "outputs": []
    },
    {
      "cell_type": "code",
      "source": [
        "f"
      ],
      "metadata": {
        "colab": {
          "base_uri": "https://localhost:8080/",
          "height": 37
        },
        "id": "j1MMv-r61lcS",
        "outputId": "517e2667-5f0b-483a-8dd8-c02730feb628"
      },
      "execution_count": 11,
      "outputs": [
        {
          "output_type": "execute_result",
          "data": {
            "text/plain": [
              "'123'"
            ],
            "application/vnd.google.colaboratory.intrinsic+json": {
              "type": "string"
            }
          },
          "metadata": {},
          "execution_count": 11
        }
      ]
    },
    {
      "cell_type": "code",
      "source": [
        "print(f)"
      ],
      "metadata": {
        "colab": {
          "base_uri": "https://localhost:8080/"
        },
        "id": "BK9UGpsJ1n6C",
        "outputId": "7ccddcc8-38d3-4f7e-9980-83f5d5bfdafd"
      },
      "execution_count": 12,
      "outputs": [
        {
          "output_type": "stream",
          "name": "stdout",
          "text": [
            "123\n"
          ]
        }
      ]
    },
    {
      "cell_type": "code",
      "source": [
        "g = \"0313\""
      ],
      "metadata": {
        "id": "RxW9ZJ751r89"
      },
      "execution_count": 13,
      "outputs": []
    },
    {
      "cell_type": "code",
      "source": [
        "g"
      ],
      "metadata": {
        "colab": {
          "base_uri": "https://localhost:8080/",
          "height": 37
        },
        "id": "wUheajAc10vt",
        "outputId": "655cee12-3d6e-4a7e-edbb-f560f3a640fc"
      },
      "execution_count": 14,
      "outputs": [
        {
          "output_type": "execute_result",
          "data": {
            "text/plain": [
              "'0313'"
            ],
            "application/vnd.google.colaboratory.intrinsic+json": {
              "type": "string"
            }
          },
          "metadata": {},
          "execution_count": 14
        }
      ]
    },
    {
      "cell_type": "code",
      "source": [
        "age, name = 22, \"feng\""
      ],
      "metadata": {
        "id": "TH9UOrsx12-t"
      },
      "execution_count": 17,
      "outputs": []
    },
    {
      "cell_type": "code",
      "source": [
        "age, name"
      ],
      "metadata": {
        "colab": {
          "base_uri": "https://localhost:8080/"
        },
        "id": "HtwVDX1N1_VE",
        "outputId": "87c7b7a4-4f63-4ec4-9c14-91e9d25604fc"
      },
      "execution_count": 18,
      "outputs": [
        {
          "output_type": "execute_result",
          "data": {
            "text/plain": [
              "(22, 'feng')"
            ]
          },
          "metadata": {},
          "execution_count": 18
        }
      ]
    },
    {
      "cell_type": "code",
      "source": [
        "print(d, f, g, name)"
      ],
      "metadata": {
        "colab": {
          "base_uri": "https://localhost:8080/"
        },
        "id": "w9iY0D452fyq",
        "outputId": "b1feb19a-e3e2-4488-bec9-a54d91656675"
      },
      "execution_count": 19,
      "outputs": [
        {
          "output_type": "stream",
          "name": "stdout",
          "text": [
            "1 123 0313 feng\n"
          ]
        }
      ]
    },
    {
      "cell_type": "code",
      "source": [
        "day = \"0315\""
      ],
      "metadata": {
        "id": "NfpG4X323cDO"
      },
      "execution_count": 20,
      "outputs": []
    },
    {
      "cell_type": "code",
      "source": [
        "hi = \"你好\""
      ],
      "metadata": {
        "id": "m7YAMUs03juV"
      },
      "execution_count": 21,
      "outputs": []
    },
    {
      "cell_type": "code",
      "source": [
        "print(\"今天是\",day,hi)"
      ],
      "metadata": {
        "colab": {
          "base_uri": "https://localhost:8080/"
        },
        "id": "lSvc2ydT3oLh",
        "outputId": "07efab06-0068-46ce-92ee-7f9f301b866d"
      },
      "execution_count": 22,
      "outputs": [
        {
          "output_type": "stream",
          "name": "stdout",
          "text": [
            "今天是 0315 你好\n"
          ]
        }
      ]
    },
    {
      "cell_type": "code",
      "source": [
        "print(\"今天是\",day,hi,\"我是\",name)"
      ],
      "metadata": {
        "colab": {
          "base_uri": "https://localhost:8080/"
        },
        "id": "VjfORfxf31lT",
        "outputId": "1cb2d2c5-1b52-4537-9831-e785b2a4d2ee"
      },
      "execution_count": 23,
      "outputs": [
        {
          "output_type": "stream",
          "name": "stdout",
          "text": [
            "今天是 0315 你好 我是 feng\n"
          ]
        }
      ]
    },
    {
      "cell_type": "code",
      "source": [
        "print(\"今天是\",day+hi+\"我是\"+name)"
      ],
      "metadata": {
        "colab": {
          "base_uri": "https://localhost:8080/"
        },
        "id": "_3FFSRzF4HhP",
        "outputId": "78a28e20-15fd-4c07-c96a-c30fc2dab3f4"
      },
      "execution_count": 24,
      "outputs": [
        {
          "output_type": "stream",
          "name": "stdout",
          "text": [
            "今天是 0315你好我是feng\n"
          ]
        }
      ]
    },
    {
      "cell_type": "code",
      "source": [
        "print(\"今天是\"+day+hi+\"我是\"+name)"
      ],
      "metadata": {
        "colab": {
          "base_uri": "https://localhost:8080/"
        },
        "id": "0j7kE0gQ4dMf",
        "outputId": "dc290fcc-dab5-4f21-fe6f-4e0af28ac785"
      },
      "execution_count": 25,
      "outputs": [
        {
          "output_type": "stream",
          "name": "stdout",
          "text": [
            "今天是0315你好我是feng\n"
          ]
        }
      ]
    },
    {
      "cell_type": "code",
      "source": [
        "print(\"今天是\"+day+\"，\"+hi+\"!\"+\"我是\"+name+\"!\")"
      ],
      "metadata": {
        "colab": {
          "base_uri": "https://localhost:8080/"
        },
        "id": "kIpa6UX04wWA",
        "outputId": "0f2ad663-d82b-4448-f009-af095db0a18b"
      },
      "execution_count": 26,
      "outputs": [
        {
          "output_type": "stream",
          "name": "stdout",
          "text": [
            "今天是0315，你好!我是feng!\n"
          ]
        }
      ]
    },
    {
      "cell_type": "code",
      "source": [
        "h = 1\n",
        "i = 2\n",
        "j = 3"
      ],
      "metadata": {
        "id": "6wkTXdIP6FwE"
      },
      "execution_count": 31,
      "outputs": []
    },
    {
      "cell_type": "code",
      "source": [
        "h"
      ],
      "metadata": {
        "colab": {
          "base_uri": "https://localhost:8080/"
        },
        "id": "OWvPfNWU6WXI",
        "outputId": "dd61f9d6-85fc-4518-f39a-f2150c6f76fe"
      },
      "execution_count": 28,
      "outputs": [
        {
          "output_type": "execute_result",
          "data": {
            "text/plain": [
              "1"
            ]
          },
          "metadata": {},
          "execution_count": 28
        }
      ]
    },
    {
      "cell_type": "code",
      "source": [
        "i"
      ],
      "metadata": {
        "colab": {
          "base_uri": "https://localhost:8080/"
        },
        "id": "sO_VdCYt6YQy",
        "outputId": "cd385ce1-fc08-4e4b-fbbf-2fb65d9059c0"
      },
      "execution_count": 32,
      "outputs": [
        {
          "output_type": "execute_result",
          "data": {
            "text/plain": [
              "2"
            ]
          },
          "metadata": {},
          "execution_count": 32
        }
      ]
    },
    {
      "cell_type": "code",
      "source": [
        "j"
      ],
      "metadata": {
        "colab": {
          "base_uri": "https://localhost:8080/"
        },
        "id": "cT1aj9cu6ahD",
        "outputId": "ba719fc7-296e-4e3e-aaa5-50ba1cf1fd7e"
      },
      "execution_count": 30,
      "outputs": [
        {
          "output_type": "execute_result",
          "data": {
            "text/plain": [
              "3"
            ]
          },
          "metadata": {},
          "execution_count": 30
        }
      ]
    },
    {
      "cell_type": "code",
      "source": [
        "h, i, j"
      ],
      "metadata": {
        "colab": {
          "base_uri": "https://localhost:8080/"
        },
        "id": "KTLgBqNL6vQG",
        "outputId": "2dfc190f-0e12-4076-958d-5aa6b9b8dc75"
      },
      "execution_count": 33,
      "outputs": [
        {
          "output_type": "execute_result",
          "data": {
            "text/plain": [
              "(1, 2, 3)"
            ]
          },
          "metadata": {},
          "execution_count": 33
        }
      ]
    },
    {
      "cell_type": "code",
      "source": [
        "str = \"這是字串\""
      ],
      "metadata": {
        "id": "6xZ00KeT60FN"
      },
      "execution_count": 34,
      "outputs": []
    },
    {
      "cell_type": "code",
      "source": [
        "str"
      ],
      "metadata": {
        "colab": {
          "base_uri": "https://localhost:8080/",
          "height": 37
        },
        "id": "hTEuR8pW7LeY",
        "outputId": "7b808829-1668-4a5f-d3fb-0ca0d848f90f"
      },
      "execution_count": 35,
      "outputs": [
        {
          "output_type": "execute_result",
          "data": {
            "text/plain": [
              "'這是字串'"
            ],
            "application/vnd.google.colaboratory.intrinsic+json": {
              "type": "string"
            }
          },
          "metadata": {},
          "execution_count": 35
        }
      ]
    },
    {
      "cell_type": "code",
      "source": [
        "str = '這是字串'"
      ],
      "metadata": {
        "id": "JQTuw9V_7TAr"
      },
      "execution_count": 36,
      "outputs": []
    },
    {
      "cell_type": "code",
      "source": [
        "str"
      ],
      "metadata": {
        "colab": {
          "base_uri": "https://localhost:8080/",
          "height": 37
        },
        "id": "gfU_RniU7fPs",
        "outputId": "74361cc0-d15d-4dae-a369-c88831bd7d65"
      },
      "execution_count": 37,
      "outputs": [
        {
          "output_type": "execute_result",
          "data": {
            "text/plain": [
              "'這是字串'"
            ],
            "application/vnd.google.colaboratory.intrinsic+json": {
              "type": "string"
            }
          },
          "metadata": {},
          "execution_count": 37
        }
      ]
    },
    {
      "cell_type": "code",
      "source": [
        "str1 = \"feng説: 'hey,你好!'\"\n",
        "str2 = 'feng説: \"hey,你好!\"'"
      ],
      "metadata": {
        "id": "ksSiRCWE7hIv"
      },
      "execution_count": 44,
      "outputs": []
    },
    {
      "cell_type": "code",
      "source": [
        "print(str1)"
      ],
      "metadata": {
        "colab": {
          "base_uri": "https://localhost:8080/"
        },
        "id": "Jx6dUVmH8rLi",
        "outputId": "c83bbd90-92b7-4be4-8391-6d426cf283d6"
      },
      "execution_count": 48,
      "outputs": [
        {
          "output_type": "stream",
          "name": "stdout",
          "text": [
            "feng説: 'hey,你好!'\n"
          ]
        }
      ]
    },
    {
      "cell_type": "code",
      "source": [
        "print(str2)"
      ],
      "metadata": {
        "colab": {
          "base_uri": "https://localhost:8080/"
        },
        "id": "JmZnUU7z8tWx",
        "outputId": "21c6b539-e476-44f0-c6b4-64f9d55bfbc8"
      },
      "execution_count": 47,
      "outputs": [
        {
          "output_type": "stream",
          "name": "stdout",
          "text": [
            "feng説: \"hey,你好!\"\n"
          ]
        }
      ]
    },
    {
      "cell_type": "code",
      "source": [
        "print(type(56))\n",
        "print(type(56.0))\n",
        "print(type(\"hey man, how are you?\"))\n",
        "print(type(True))"
      ],
      "metadata": {
        "colab": {
          "base_uri": "https://localhost:8080/"
        },
        "id": "OLFXt0xr9JG3",
        "outputId": "e3882eb1-b801-4921-e649-98a364df4853"
      },
      "execution_count": 50,
      "outputs": [
        {
          "output_type": "stream",
          "name": "stdout",
          "text": [
            "<class 'int'>\n",
            "<class 'float'>\n",
            "<class 'str'>\n",
            "<class 'bool'>\n"
          ]
        }
      ]
    },
    {
      "cell_type": "code",
      "source": [
        "print(type(a))"
      ],
      "metadata": {
        "colab": {
          "base_uri": "https://localhost:8080/"
        },
        "id": "zlUX5LnN-6Q3",
        "outputId": "2d8ca69e-d346-4b4d-87b5-ffba5d70bd70"
      },
      "execution_count": 51,
      "outputs": [
        {
          "output_type": "stream",
          "name": "stdout",
          "text": [
            "<class 'int'>\n"
          ]
        }
      ]
    },
    {
      "cell_type": "code",
      "source": [
        "print(type(a),type(b),type(c),type(d),type(e),type(f),type(g),type(h),type(i),type(j))"
      ],
      "metadata": {
        "colab": {
          "base_uri": "https://localhost:8080/"
        },
        "id": "ESc5ZAs-_A4E",
        "outputId": "b3440a6d-7dd9-420a-b96a-7eb150d1196b"
      },
      "execution_count": 52,
      "outputs": [
        {
          "output_type": "stream",
          "name": "stdout",
          "text": [
            "<class 'int'> <class 'int'> <class 'int'> <class 'str'> <class 'int'> <class 'str'> <class 'str'> <class 'int'> <class 'int'> <class 'int'>\n"
          ]
        }
      ]
    }
  ]
}