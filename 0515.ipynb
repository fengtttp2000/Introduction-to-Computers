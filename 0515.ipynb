{
  "nbformat": 4,
  "nbformat_minor": 0,
  "metadata": {
    "colab": {
      "provenance": [],
      "authorship_tag": "ABX9TyOJ1zBind7NMHn2CqUI/QDU",
      "include_colab_link": true
    },
    "kernelspec": {
      "name": "python3",
      "display_name": "Python 3"
    },
    "language_info": {
      "name": "python"
    }
  },
  "cells": [
    {
      "cell_type": "markdown",
      "metadata": {
        "id": "view-in-github",
        "colab_type": "text"
      },
      "source": [
        "<a href=\"https://colab.research.google.com/github/fengtttp2000/Introduction-to-Computers/blob/main/0515.ipynb\" target=\"_parent\"><img src=\"https://colab.research.google.com/assets/colab-badge.svg\" alt=\"Open In Colab\"/></a>"
      ]
    },
    {
      "cell_type": "code",
      "execution_count": 3,
      "metadata": {
        "id": "Cuxe2stSUBwp",
        "colab": {
          "base_uri": "https://localhost:8080/"
        },
        "outputId": "7cf856c3-e2e4-477b-c835-c72f4a6df940"
      },
      "outputs": [
        {
          "output_type": "stream",
          "name": "stdout",
          "text": [
            "score72\n",
            "Grade is: C\n"
          ]
        }
      ],
      "source": [
        "score = int(input(\"score\"))\n",
        "if score >= 90: \n",
        "  print('Grade is: A')\n",
        "elif score >= 80: \n",
        "  print('Grade is: B')\n",
        "elif score >= 70: \n",
        "  print('Grade is: C')\n",
        "elif score >= 60: \n",
        "  print('Grade is: D')\n",
        "else: \n",
        "  print('Grade is: E')      "
      ]
    },
    {
      "cell_type": "code",
      "source": [
        "month = int(input(\"請輸入月份（1-12):\"))\n",
        "if month >= 3 and month <= 12: \n",
        "  if month >= 3 and month <= 5: \n",
        "    season = \"春天\"\n",
        "  elif month >= 6 and month <= 8: \n",
        "    season = \"夏天\"\n",
        "  elif month >= 9and month <= 11: \n",
        "    season = \"秋天\"\n",
        "  else: \n",
        "    season = \"冬天\"    \n",
        "  print(f\"{month}月份是{season}\")\n",
        "else: \n",
        "  print(\"請輸入有效的月份(1-12)\")    "
      ],
      "metadata": {
        "colab": {
          "base_uri": "https://localhost:8080/"
        },
        "id": "C27a3qk3wHLy",
        "outputId": "093b8b15-f829-46bd-d52f-042fd10767f1"
      },
      "execution_count": 5,
      "outputs": [
        {
          "output_type": "stream",
          "name": "stdout",
          "text": [
            "請輸入月份（1-12):9\n",
            "9月份是秋天\n"
          ]
        }
      ]
    },
    {
      "cell_type": "code",
      "source": [
        "income = float(input(\"請輸入收入:\"))\n",
        "if income >= 2000000: \n",
        "  tax_rate =  0.3\n",
        "elif income >= 1000000: \n",
        "  tax_rate =  0.21\n",
        "elif income >= 600000: \n",
        "  tax_rate =  0.13\n",
        "elif income >= 300000: \n",
        "  tax_rate = 0.06  \n",
        "else: \n",
        "  tax_rate =  0\n",
        "print(f\"需要支付的稅率為:{tax_rate}\")        "
      ],
      "metadata": {
        "colab": {
          "base_uri": "https://localhost:8080/"
        },
        "id": "wb6eOKOAx9Z5",
        "outputId": "10435c88-f382-43ed-993e-72e6e7ef7bc5"
      },
      "execution_count": 16,
      "outputs": [
        {
          "output_type": "stream",
          "name": "stdout",
          "text": [
            "請輸入收入:800000\n",
            "需要支付的稅率為:0.13\n"
          ]
        }
      ]
    },
    {
      "cell_type": "code",
      "source": [
        "temperature = float(input(\"請輸入體溫:\"))\n",
        "if temperature > 37.5: \n",
        "  status = \"體溫過高\"\n",
        "elif temperature >= 37.5 and temperature <= 37: \n",
        "  status = \"體溫略高\"\n",
        "elif temperature >= 34 and temperature <= 36.9: \n",
        "  status = \"體溫正常\"\n",
        "elif temperature < 34: \n",
        "  status = \"體溫異常,請重新量測\"\n",
        "else: \n",
        "  status = \"體溫狀態無法確定\"\n",
        "print(f\"體溫狀態:{status}\")            "
      ],
      "metadata": {
        "colab": {
          "base_uri": "https://localhost:8080/"
        },
        "id": "WOncXYGOyx7V",
        "outputId": "7345abf3-9801-452e-f141-e7f1e4766437"
      },
      "execution_count": null,
      "outputs": [
        {
          "output_type": "stream",
          "name": "stdout",
          "text": [
            "請輸入體溫:35\n",
            "體溫狀態:體溫正常\n"
          ]
        }
      ]
    },
    {
      "cell_type": "code",
      "source": [
        "rain = input(\"今天會下雨嗎?(輸入y或n)\")\n",
        "if(rain == \"Y\" or rain == \"y\"): \n",
        "  print(\"出門記得帶傘！\")\n",
        "elif(rain == \"N\" or rain == \"n\"): \n",
        "  print(\"出門不用帶傘!\")\n",
        "else: \n",
        "  print(\"請重新輸入\")       \n",
        "\n"
      ],
      "metadata": {
        "colab": {
          "base_uri": "https://localhost:8080/"
        },
        "id": "2EWPzLC3gHGV",
        "outputId": "ffb6192a-f846-42a2-fa33-a6d839c23e78"
      },
      "execution_count": 11,
      "outputs": [
        {
          "output_type": "stream",
          "name": "stdout",
          "text": [
            "今天會下雨嗎?(輸入y或n)y\n",
            "出門記得帶傘！\n"
          ]
        }
      ]
    }
  ]
}