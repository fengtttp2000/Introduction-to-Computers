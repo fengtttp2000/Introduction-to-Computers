{
  "nbformat": 4,
  "nbformat_minor": 0,
  "metadata": {
    "colab": {
      "provenance": [],
      "authorship_tag": "ABX9TyPHrBuebD+0zTLOWU7zvMhz",
      "include_colab_link": true
    },
    "kernelspec": {
      "name": "python3",
      "display_name": "Python 3"
    },
    "language_info": {
      "name": "python"
    }
  },
  "cells": [
    {
      "cell_type": "markdown",
      "metadata": {
        "id": "view-in-github",
        "colab_type": "text"
      },
      "source": [
        "<a href=\"https://colab.research.google.com/github/fengtttp2000/Introduction-to-Computers/blob/main/0501.ipynb\" target=\"_parent\"><img src=\"https://colab.research.google.com/assets/colab-badge.svg\" alt=\"Open In Colab\"/></a>"
      ]
    },
    {
      "cell_type": "code",
      "execution_count": null,
      "metadata": {
        "colab": {
          "base_uri": "https://localhost:8080/"
        },
        "id": "rGLqWXHVqqFF",
        "outputId": "b8cd9b70-da22-4a63-d6b2-0b7e78790c0a"
      },
      "outputs": [
        {
          "output_type": "stream",
          "name": "stdout",
          "text": [
            "Hello World\n"
          ]
        }
      ],
      "source": [
        "print(\"Hello World\")"
      ]
    },
    {
      "cell_type": "code",
      "source": [
        "F = float(input(\"請輸入華氏溫度:\"))\n",
        "C = (F - 32)* 5 / 9\n",
        "print(\"攝氏溫度為:，{:.1f}\".format(C))"
      ],
      "metadata": {
        "colab": {
          "base_uri": "https://localhost:8080/"
        },
        "id": "ZSzZGkhDra1V",
        "outputId": "943dcf2a-a3a9-44ff-c6d6-a8a9e4fbbe98"
      },
      "execution_count": null,
      "outputs": [
        {
          "output_type": "stream",
          "name": "stdout",
          "text": [
            "請輸入華氏溫度:100\n",
            "攝氏溫度為:，37.8\n"
          ]
        }
      ]
    },
    {
      "cell_type": "code",
      "source": [
        "n = int(input(\"請輸入一個整數:\"))\n",
        "total = 0\n",
        "for i in range(1,n+1):\n",
        "  total += i\n",
        "  print(total)"
      ],
      "metadata": {
        "colab": {
          "base_uri": "https://localhost:8080/"
        },
        "id": "_BpNOD5ltzw9",
        "outputId": "00e43e99-26ab-4b36-8941-04226e562afc"
      },
      "execution_count": null,
      "outputs": [
        {
          "output_type": "stream",
          "name": "stdout",
          "text": [
            "請輸入一個整數:5\n",
            "1\n",
            "3\n",
            "6\n",
            "10\n",
            "15\n"
          ]
        }
      ]
    },
    {
      "cell_type": "code",
      "source": [
        "本金 = 10000 #本金為10000元\n",
        "利率 = 0.02 #年利率為2%\n",
        "年數 = 6 #經過6年\n",
        "金額 = 本金 * (1 + 利率)**年數\n",
        "print(\"6年後的存款金額為:{:.2f}元\".format(金額))\n"
      ],
      "metadata": {
        "colab": {
          "base_uri": "https://localhost:8080/"
        },
        "id": "OPZ548QSuVRS",
        "outputId": "cd0e16be-8939-4187-b026-0e27f281e74b"
      },
      "execution_count": null,
      "outputs": [
        {
          "output_type": "stream",
          "name": "stdout",
          "text": [
            "6年後的存款金額為:11261.62元\n"
          ]
        }
      ]
    }
  ]
}